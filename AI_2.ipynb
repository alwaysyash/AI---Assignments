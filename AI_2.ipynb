{
  "nbformat": 4,
  "nbformat_minor": 0,
  "metadata": {
    "colab": {
      "provenance": [],
      "collapsed_sections": [],
      "toc_visible": true,
      "authorship_tag": "ABX9TyMsulWWqRuhACLjJkFgIUNC",
      "include_colab_link": true
    },
    "kernelspec": {
      "name": "python3",
      "display_name": "Python 3"
    },
    "language_info": {
      "name": "python"
    }
  },
  "cells": [
    {
      "cell_type": "markdown",
      "metadata": {
        "id": "view-in-github",
        "colab_type": "text"
      },
      "source": [
        "<a href=\"https://colab.research.google.com/github/alwaysyash/AI---Assignments/blob/main/AI_2.ipynb\" target=\"_parent\"><img src=\"https://colab.research.google.com/assets/colab-badge.svg\" alt=\"Open In Colab\"/></a>"
      ]
    },
    {
      "cell_type": "code",
      "execution_count": null,
      "metadata": {
        "colab": {
          "base_uri": "https://localhost:8080/"
        },
        "id": "IjNOGPHSWFYR",
        "outputId": "de8c9485-bb18-45f6-faa6-a02cae1a0ff4"
      },
      "outputs": [
        {
          "output_type": "stream",
          "name": "stdout",
          "text": [
            "Graph is:\n",
            "[[(1, 3), (2, 6), (3, 5)], [(0, 3), (4, 9), (5, 8)], [(0, 6), (6, 12), (7, 14)], [(0, 5), (8, 7)], [(1, 9)], [(1, 8)], [(2, 12)], [(2, 14)], [(3, 7), (9, 5), (10, 6)], [(8, 5), (11, 1), (12, 10), (13, 2)], [(8, 6)], [(9, 1)], [(9, 10)], [(9, 2)]]\n",
            "Enter target:9\n",
            "Path is:\n",
            "0 1 3 2 8 9 \n"
          ]
        }
      ],
      "source": [
        "from queue import PriorityQueue\n",
        "\n",
        "class BestFirst:\n",
        "\n",
        "  def addedge(self, v1,v2,cost):\n",
        "    graph[v1].append((v2,cost))\n",
        "    graph[v2].append((v1,cost))\n",
        "\n",
        "  def best_first_search(self,src1, target,n):\n",
        "    visited=[False]*n\n",
        "    pq=PriorityQueue()\n",
        "    pq.put((0,src1))\n",
        "    visited[src1]=True\n",
        "\n",
        "    while pq.empty()==False:\n",
        "      u=pq.get()[1]\n",
        "      print(u,end=\" \")\n",
        "\n",
        "      if u==target:\n",
        "        break\n",
        "\n",
        "      for v,c in graph[u]:\n",
        "        if visited[v]==False:\n",
        "          visited[v]=True\n",
        "          pq.put((c,v))\n",
        "    print()\n",
        "\n",
        "\n",
        "\n",
        "bfs= BestFirst()\n",
        "v=14\n",
        "graph=[[] for i in range(v)]\n",
        "\n",
        "# pq([cost,vertex])\n",
        "# graph([v,cost])\n",
        "\n",
        "# addedge(v1,v2,cost)\n",
        "bfs.addedge(0, 1, 3);\n",
        "bfs.addedge(0, 2, 6);\n",
        "bfs.addedge(0, 3, 5);\n",
        "bfs.addedge(1, 4, 9);\n",
        "bfs.addedge(1, 5, 8);\n",
        "bfs.addedge(2, 6, 12);\n",
        "bfs.addedge(2, 7, 14);\n",
        "bfs.addedge(3, 8, 7);\n",
        "bfs.addedge(8, 9, 5);\n",
        "bfs.addedge(8, 10, 6);\n",
        "bfs.addedge(9, 11, 1);\n",
        "bfs.addedge(9, 12, 10);\n",
        "bfs.addedge(9, 13, 2);\n",
        "\n",
        "print(\"Graph is:\")\n",
        "print(graph)\n",
        "\n",
        "source = 0\n",
        "target = int(input(\"Enter target:\"))\n",
        "\n",
        "print(\"Path is:\")\n",
        "bfs.best_first_search(source, target, v)"
      ]
    },
    {
      "cell_type": "code",
      "source": [],
      "metadata": {
        "colab": {
          "base_uri": "https://localhost:8080/"
        },
        "id": "Fhw8W0-je42p",
        "outputId": "7980bad0-5478-457f-dd2f-ddb64085bffe"
      },
      "execution_count": null,
      "outputs": [
        {
          "output_type": "stream",
          "name": "stdout",
          "text": [
            "<queue.PriorityQueue object at 0x7f7bf3126c10>\n"
          ]
        }
      ]
    }
  ]
}